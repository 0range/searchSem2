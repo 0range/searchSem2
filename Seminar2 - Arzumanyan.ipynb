{
 "cells": [
  {
   "cell_type": "markdown",
   "metadata": {},
   "source": [
    "#Preprocessing"
   ]
  },
  {
   "cell_type": "code",
   "execution_count": 1,
   "metadata": {
    "collapsed": true
   },
   "outputs": [],
   "source": [
    "import numpy as np\n",
    "import matplotlib.pyplot as plt\n",
    "%matplotlib inline\n",
    "import ctypes\n",
    "from time import time"
   ]
  },
  {
   "cell_type": "code",
   "execution_count": 24,
   "metadata": {
    "collapsed": false
   },
   "outputs": [],
   "source": [
    "def UnaryCode(n):\n",
    "    return n + 1\n",
    "\n",
    "def TruncatedBinaryCode(n, m):\n",
    "    b = int(np.ceil(np.log(m + 0.) / np.log(2.0)))\n",
    "    small = (n < (2 ** b - m))\n",
    "    return (b - 1) * small + b * (1 - small)\n",
    "\n",
    "def GolombCompress(data, m):\n",
    "    res = np.sum(UnaryCode(data / m)) + np.sum(TruncatedBinaryCode(data % m, m))\n",
    "    return res"
   ]
  },
  {
   "cell_type": "code",
   "execution_count": 25,
   "metadata": {
    "collapsed": true
   },
   "outputs": [],
   "source": [
    "def Generate():\n",
    "    filenames = []\n",
    "    for i in (0.001, 0.004, 0.007, 0.01, 0.04, 0.07, 0.1, 0.5, 0.7):\n",
    "        data = np.random.geometric(i, 1000000)\n",
    "        filename = str(int(1000 * i))\n",
    "        filenames.append(filename)\n",
    "        with open(filename, 'w') as outputfile:\n",
    "            for el in data:\n",
    "                outputfile.write(str(el) + '\\n')\n",
    "    return filenames"
   ]
  },
  {
   "cell_type": "code",
   "execution_count": 26,
   "metadata": {
    "collapsed": true
   },
   "outputs": [],
   "source": [
    "def SaveCompCoeffs(filenames):\n",
    "    compcoeffs = np.zeros((len(filenames), 512), dtype=np.float64)\n",
    "    thetime = time()\n",
    "    for i in xrange(len(filenames)):\n",
    "        data = []\n",
    "        j = 0\n",
    "        with open(filenames[i], 'r') as inputfile:\n",
    "            for line in inputfile:\n",
    "                j += 1\n",
    "                if len(line) == 0:\n",
    "                    break\n",
    "                n = int(line.strip())\n",
    "                data.append(n)\n",
    "                #if (j+1) % 200000 == 0:\n",
    "                #    print i, j\n",
    "        print i, \"data size is\", len(data), time() - thetime\n",
    "        original_size = len(data) * ctypes.sizeof(ctypes.c_int) * 8\n",
    "        data = np.array(data)\n",
    "        for m in xrange(512):\n",
    "            coded_size = GolombCompress(data, m + 1)\n",
    "            #if m % 100 == 0:\n",
    "            #    print m, time() - thetime\n",
    "            compcoeffs[i][m] = (original_size + 0.) / coded_size   \n",
    "    return compcoeffs"
   ]
  },
  {
   "cell_type": "code",
   "execution_count": 56,
   "metadata": {
    "collapsed": false
   },
   "outputs": [
    {
     "name": "stdout",
     "output_type": "stream",
     "text": [
      "136.622800827\n"
     ]
    }
   ],
   "source": [
    "thetime = time()\n",
    "filenames = Generate()\n",
    "print time() - thetime"
   ]
  },
  {
   "cell_type": "code",
   "execution_count": 135,
   "metadata": {
    "collapsed": false
   },
   "outputs": [
    {
     "name": "stdout",
     "output_type": "stream",
     "text": [
      "0 data size is 1000000 2.08464479446\n",
      "1 data size is 1000000 50.6396329403\n",
      "2 data size is 1000000 98.9426949024\n",
      "3 data size is 1000000 147.121159792\n",
      "4 data size is 1000000 195.237345934\n",
      "5 data size is 1000000 243.329365969\n",
      "6 data size is 1000000 291.517242908\n",
      "7 data size is 1000000 339.65118289\n",
      "8 data size is 1000000 387.710277796\n",
      "433.805727959\n"
     ]
    }
   ],
   "source": [
    "thetime = time()\n",
    "compcoeffs = SaveCompCoeffs(filenames)\n",
    "print time() - thetime"
   ]
  },
  {
   "cell_type": "code",
   "execution_count": 174,
   "metadata": {
    "collapsed": false
   },
   "outputs": [],
   "source": [
    "totalcoeffs = np.ravel(np.dot(np.ones((1,9), dtype=np.float64), compcoeffs))\n",
    "m_opt = np.argmax(totalcoeffs)"
   ]
  },
  {
   "cell_type": "code",
   "execution_count": 200,
   "metadata": {
    "collapsed": false
   },
   "outputs": [
    {
     "data": {
      "text/plain": [
       "<matplotlib.legend.Legend at 0x7f599db2c610>"
      ]
     },
     "execution_count": 200,
     "metadata": {},
     "output_type": "execute_result"
    },
    {
     "data": {
      "image/png": "[encoded data removed]",
      "text/plain": [
       "<matplotlib.figure.Figure at 0x7f599d46de50>"
      ]
     },
     "metadata": {},
     "output_type": "display_data"
    }
   ],
   "source": [
    "fig = plt.figure(figsize=(16,6))\n",
    "colors = ('b','g','r','c','m','y','w','b','g')\n",
    "styles = ('-','-','-','-','-','-','-','--','--')\n",
    "axes = fig.add_subplot(1, 1, 1, axisbg='black')\n",
    "for i in xrange(9):\n",
    "    plt.plot(compcoeffs[i, :], c=colors[i], ls=styles[i], label = filenames[i])\n",
    "xlim = plt.xlim([0,512])\n",
    "plt.axvline(x=m_opt, ymin=0, ymax=14, color = 'white')\n",
    "plt.legend(framealpha=0.2)"
   ]
  },
  {
   "cell_type": "markdown",
   "metadata": {},
   "source": [
    "#Optimal m for the whole dataset"
   ]
  },
  {
   "cell_type": "code",
   "execution_count": 15,
   "metadata": {
    "collapsed": false
   },
   "outputs": [],
   "source": [
    "def loadLists(filename):\n",
    "    \"\"\"Load index from a file, returns dict key = word number\n",
    "    value = list of (document number, count of word in the document)\"\"\"\n",
    "    index = []\n",
    "    i = 0\n",
    "    with open(filename, 'r') as index_file:\n",
    "        for line in index_file:\n",
    "            linelist = line.strip().split()[1:]\n",
    "            current_list = []\n",
    "            for j in range(0, len(linelist)):\n",
    "                current_pair = linelist[j].strip().split(':')\n",
    "                for k in xrange(int(current_pair[1])):\n",
    "                    current_list.append(int(current_pair[0]))\n",
    "            index.append(sorted(current_list))\n",
    "    return index"
   ]
  },
  {
   "cell_type": "code",
   "execution_count": 16,
   "metadata": {
    "collapsed": false
   },
   "outputs": [
    {
     "name": "stdout",
     "output_type": "stream",
     "text": [
      "152.738889933\n"
     ]
    }
   ],
   "source": [
    "thetime = time()\n",
    "index = loadLists('index.txt')\n",
    "print time() - thetime"
   ]
  },
  {
   "cell_type": "code",
   "execution_count": 20,
   "metadata": {
    "collapsed": false
   },
   "outputs": [
    {
     "name": "stdout",
     "output_type": "stream",
     "text": [
      "163.407105923\n"
     ]
    }
   ],
   "source": [
    "# compressing\n",
    "thetime = time()\n",
    "compressed_index = []\n",
    "empties = []\n",
    "for i in xrange(len(index)):\n",
    "    if len(index[i]) > 0:\n",
    "        curr_line = np.zeros((len(index[i]),), dtype=int)\n",
    "        curr_line[0] = index[i][0]\n",
    "        for j in xrange(1, len(index[i])):\n",
    "            curr_line[j] = index[i][j] - index[i][j-1]\n",
    "        compressed_index.append(curr_line)\n",
    "    else:\n",
    "        empties.append(i)\n",
    "print - thetime + time()"
   ]
  },
  {
   "cell_type": "code",
   "execution_count": 21,
   "metadata": {
    "collapsed": false
   },
   "outputs": [
    {
     "data": {
      "text/plain": [
       "0"
      ]
     },
     "execution_count": 21,
     "metadata": {},
     "output_type": "execute_result"
    }
   ],
   "source": [
    "len(empties)"
   ]
  },
  {
   "cell_type": "code",
   "execution_count": 22,
   "metadata": {
    "collapsed": false
   },
   "outputs": [
    {
     "name": "stdout",
     "output_type": "stream",
     "text": [
      "5.95628094673\n"
     ]
    }
   ],
   "source": [
    "thetime = time()\n",
    "full_sizes = np.zeros((len(compressed_index)), dtype=int)\n",
    "for i in xrange(len(compressed_index)):\n",
    "    full_sizes[i] =  len(compressed_index[i]) * ctypes.sizeof(ctypes.c_int) * 8\n",
    "print time() - thetime"
   ]
  },
  {
   "cell_type": "code",
   "execution_count": 30,
   "metadata": {
    "collapsed": false
   },
   "outputs": [
    {
     "name": "stdout",
     "output_type": "stream",
     "text": [
      " 0 0.000473022460938\n",
      "100000 232.780017853\n",
      "200000 412.631098986\n",
      "300000 586.193538904\n",
      "400000 750.765649796\n",
      "500000 916.741621971\n",
      "600000 1080.27258301\n",
      "700000 1242.88011098\n",
      "800000 1404.77126884\n",
      "900000 1566.22916484\n",
      "1000000 1728.21289396\n",
      "1100000 1889.77484083\n",
      "1200000 2050.89742994\n",
      "1300000 2211.91710496\n",
      "1400000 2373.30659485\n",
      "1500000 2534.467278\n",
      "1600000 2695.15574384\n",
      "1700000 2855.76425886\n",
      "1800000 3015.88867593\n",
      "1900000 3176.26072192\n",
      "2000000 3337.16189599\n",
      "2100000 3497.59314299\n",
      "2200000 3658.06178093\n",
      "2300000 3818.593081\n",
      "2400000 3979.25420499\n",
      "2500000 4139.73069787\n",
      "2600000 4300.2100749\n",
      "2700000 4460.93477702\n",
      "4480.02224588\n"
     ]
    }
   ],
   "source": [
    "thetime = time()\n",
    "comp_sum_coeffs_first = np.zeros((16))\n",
    "for i in xrange(len(compressed_index)):\n",
    "    if i % 100000 == 0:\n",
    "        print i, time() - thetime\n",
    "    for m in xrange(16):\n",
    "        coded_size = GolombCompress(compressed_index[i], 2 ** m)\n",
    "        comp_sum_coeffs_first[m] += coded_size   \n",
    "print time() - thetime"
   ]
  },
  {
   "cell_type": "code",
   "execution_count": 37,
   "metadata": {
    "collapsed": false
   },
   "outputs": [
    {
     "data": {
      "image/png": "[encoded data removed]",
      "text/plain": [
       "<matplotlib.figure.Figure at 0x7f92737c2850>"
      ]
     },
     "metadata": {},
     "output_type": "display_data"
    }
   ],
   "source": [
    "plt.plot(comp_sum_coeffs_first)\n",
    "lim = plt.ylim([0.4 * 10 ** 9, 0.6 * 10**9])"
   ]
  },
  {
   "cell_type": "code",
   "execution_count": 34,
   "metadata": {
    "collapsed": true
   },
   "outputs": [],
   "source": [
    "m_min_first = 2 ** (np.argmin(comp_sum_coeffs_first) - 1)\n",
    "m_max_first = 2 ** (np.argmin(comp_sum_coeffs_first) + 1)"
   ]
  },
  {
   "cell_type": "code",
   "execution_count": 38,
   "metadata": {
    "collapsed": false
   },
   "outputs": [
    {
     "name": "stdout",
     "output_type": "stream",
     "text": [
      "0 0.000558853149414\n",
      "100000 188.303677797\n",
      "200000 337.213680983\n",
      "300000 485.657042027\n",
      "400000 628.90760088\n",
      "500000 772.1386199\n",
      "600000 914.74593401\n",
      "700000 1056.92890286\n",
      "800000 1199.11974692\n",
      "900000 1341.0599308\n",
      "1000000 1482.56648684\n",
      "1100000 1623.67847681\n",
      "1200000 1764.95726299\n",
      "1300000 1906.74206281\n",
      "1400000 2048.338552\n",
      "1500000 2189.70409298\n",
      "1600000 2331.33164692\n",
      "1700000 2472.87922883\n",
      "1800000 2614.03930497\n",
      "1900000 2755.33933592\n",
      "2000000 2896.88154888\n",
      "2100000 3038.29006195\n",
      "2200000 3179.5822258\n",
      "2300000 3320.80736494\n",
      "2400000 3462.69082999\n",
      "2500000 3603.74128485\n",
      "2600000 3744.80190897\n",
      "2700000 3886.01772285\n",
      "3902.93905687\n"
     ]
    }
   ],
   "source": [
    "thetime = time()\n",
    "comp_sum_coeffs_second = np.zeros((12))\n",
    "for i in xrange(len(compressed_index)):\n",
    "    if i % 100000 == 0:\n",
    "        print i, time() - thetime\n",
    "    for m in xrange(12):\n",
    "        coded_size = GolombCompress(compressed_index[i], m_min_first + 2 ** m)\n",
    "        comp_sum_coeffs_second[m] += coded_size   \n",
    "print time() - thetime"
   ]
  },
  {
   "cell_type": "code",
   "execution_count": 39,
   "metadata": {
    "collapsed": false
   },
   "outputs": [
    {
     "data": {
      "text/plain": [
       "[<matplotlib.lines.Line2D at 0x477b6410>]"
      ]
     },
     "execution_count": 39,
     "metadata": {},
     "output_type": "execute_result"
    },
    {
     "data": {
      "image/png": "[encoded data removed]",
      "text/plain": [
       "<matplotlib.figure.Figure at 0x472499d0>"
      ]
     },
     "metadata": {},
     "output_type": "display_data"
    }
   ],
   "source": [
    "plt.plot(comp_sum_coeffs_second)\n",
    "#lim = plt.ylim([0, 0.1 * 10**10])"
   ]
  },
  {
   "cell_type": "code",
   "execution_count": 53,
   "metadata": {
    "collapsed": true
   },
   "outputs": [],
   "source": [
    "m_min_second = m_min_first + 2 ** 7\n",
    "m_max_second = 2 ** 11"
   ]
  },
  {
   "cell_type": "code",
   "execution_count": 56,
   "metadata": {
    "collapsed": false
   },
   "outputs": [
    {
     "name": "stdout",
     "output_type": "stream",
     "text": [
      "0 0.000550985336304\n",
      "100000 222.261101007\n",
      "200000 418.86855197\n",
      "300000 615.204613924\n",
      "400000 805.240943909\n",
      "500000 996.095495939\n",
      "600000 1185.91530704\n",
      "700000 1375.89889407\n",
      "800000 1565.50414801\n",
      "900000 1754.96956801\n",
      "1000000 1944.37163401\n",
      "1100000 2133.72645402\n",
      "1200000 2323.75755906\n",
      "1300000 2512.91898394\n",
      "1400000 2703.69023013\n",
      "1500000 2894.47461295\n",
      "1600000 3083.42074513\n",
      "1700000 3272.32157111\n",
      "1800000 3460.8273201\n",
      "1900000 3649.41945601\n",
      "2000000 3837.86747098\n",
      "2100000 4026.81729507\n",
      "2200000 4215.571033\n",
      "2300000 4404.55735898\n",
      "2400000 4593.05482793\n",
      "2500000 4781.76416397\n",
      "2600000 4970.28992105\n",
      "2700000 5159.11483312\n",
      "5181.64864802\n"
     ]
    }
   ],
   "source": [
    "thetime = time()\n",
    "comp_sum_coeffs_third = np.zeros((16))\n",
    "for i in xrange(len(compressed_index)):\n",
    "    if i % 100000 == 0:\n",
    "        print i, time() - thetime\n",
    "    for m in xrange(16):\n",
    "        coded_size = GolombCompress(compressed_index[i], m_min_second + m * (m_max_second - m_min_second) / 15)\n",
    "        comp_sum_coeffs_third[m] += coded_size   \n",
    "print time() - thetime"
   ]
  },
  {
   "cell_type": "code",
   "execution_count": 59,
   "metadata": {
    "collapsed": false
   },
   "outputs": [
    {
     "data": {
      "text/plain": [
       "[<matplotlib.lines.Line2D at 0x7f923a5c1c10>]"
      ]
     },
     "execution_count": 59,
     "metadata": {},
     "output_type": "execute_result"
    },
    {
     "data": {
      "image/png": "[encoded data removed]",
      "text/plain": [
       "<matplotlib.figure.Figure at 0x7f92737a3b90>"
      ]
     },
     "metadata": {},
     "output_type": "display_data"
    }
   ],
   "source": [
    "ms = m_min_second + np.array(range(16)) * (m_max_second - m_min_second) / 15\n",
    "plt.plot(ms, comp_sum_coeffs_third)\n",
    "#lim = plt.ylim([3.035 * 10 ** 8, 3.06 * 10**8])"
   ]
  },
  {
   "cell_type": "code",
   "execution_count": 61,
   "metadata": {
    "collapsed": true
   },
   "outputs": [],
   "source": [
    "m_min_third = m_min_second + (np.argmin(comp_sum_coeffs_third) - 1) * (m_max_second - m_min_second) / 15\n",
    "m_max_third = m_min_second + (np.argmin(comp_sum_coeffs_third) + 1) * (m_max_second - m_min_second) / 15"
   ]
  },
  {
   "cell_type": "code",
   "execution_count": null,
   "metadata": {
    "collapsed": false
   },
   "outputs": [
    {
     "name": "stdout",
     "output_type": "stream",
     "text": [
      "0 0.00051212310791\n",
      "100000 219.531186104\n",
      "200000 415.446947098\n",
      "300000 610.532803059\n",
      "400000 800.09092021\n",
      "500000 989.746539116\n",
      "600000 1178.9044342\n",
      "700000 1368.33082604\n",
      "800000 1557.40374422\n",
      "900000 1746.06961608\n",
      "1000000 1934.45389009\n",
      "1100000 2122.77984214\n",
      "1200000 2311.43941617\n",
      "1300000 2499.71346402\n",
      "1400000 2688.32511115\n",
      "1500000 2876.16455221\n",
      "1600000 3064.33326721\n",
      "1700000 3252.27282715\n",
      "1800000 3440.43858099\n",
      "1900000 3628.43402719\n",
      "2000000 3816.49271417\n",
      "2100000 4004.5330801\n",
      "2200000 4192.566046\n",
      "2300000 4380.12986422\n",
      "2400000 4568.03098011\n",
      "2500000"
     ]
    }
   ],
   "source": [
    "thetime = time()\n",
    "comp_sum_coeffs_last = np.zeros(16)\n",
    "for i in xrange(len(compressed_index)):\n",
    "    if i % 100000 == 0:\n",
    "        print i, time() - thetime\n",
    "    for m in xrange(16):\n",
    "        coded_size = GolombCompress(compressed_index[i], m_min_third + m * (m_max_third - m_min_third) / 15)\n",
    "        comp_sum_coeffs_last[m] += coded_size   \n",
    "print time() - thetime"
   ]
  },
  {
   "cell_type": "code",
   "execution_count": null,
   "metadata": {
    "collapsed": false
   },
   "outputs": [],
   "source": [
    "ms = m_min_third + np.array(range(16)) * (m_max_third - m_min_third) / 15\n",
    "plt.plot(ms, comp_sum_coeffs_last)\n",
    "#lim = plt.ylim([3.035 * 10**8, 3.04 * 10**8])"
   ]
  },
  {
   "cell_type": "code",
   "execution_count": null,
   "metadata": {
    "collapsed": true
   },
   "outputs": [],
   "source": []
  },
  {
   "cell_type": "code",
   "execution_count": null,
   "metadata": {
    "collapsed": true
   },
   "outputs": [],
   "source": [
    "thetime = time()\n",
    "comp_sum_coeffs_total = np.zeros(16)\n",
    "for i in xrange(len(compressed_index)):\n",
    "    if i % 100000 == 0:\n",
    "        print i, time() - thetime\n",
    "    for m in xrange(16):\n",
    "        coded_size = GolombCompress(compressed_index[i], m_min_third + m * (m_max_third - m_min_third) / 15)\n",
    "        comp_sum_coeffs_total[m] += coded_size   \n",
    "print time() - thetime"
   ]
  },
  {
   "cell_type": "code",
   "execution_count": null,
   "metadata": {
    "collapsed": true
   },
   "outputs": [],
   "source": [
    "opt_big_index_m = m_min_third + np.argmin(comp_sum_coeffs_last)"
   ]
  },
  {
   "cell_type": "code",
   "execution_count": 147,
   "metadata": {
    "collapsed": false
   },
   "outputs": [
    {
     "name": "stdout",
     "output_type": "stream",
     "text": [
      "opt m  250\n"
     ]
    }
   ],
   "source": [
    "print 'opt m ', opt_big_index_m"
   ]
  },
  {
   "cell_type": "markdown",
   "metadata": {},
   "source": [
    "#Longest list"
   ]
  },
  {
   "cell_type": "code",
   "execution_count": 118,
   "metadata": {
    "collapsed": false
   },
   "outputs": [
    {
     "name": "stdout",
     "output_type": "stream",
     "text": [
      " max list:  175968 435178\n"
     ]
    }
   ],
   "source": [
    "l = np.argmax(full_sizes)\n",
    "print 'max list: ', l, compressed_index[l].shape[0]"
   ]
  },
  {
   "cell_type": "code",
   "execution_count": 78,
   "metadata": {
    "collapsed": false
   },
   "outputs": [
    {
     "name": "stdout",
     "output_type": "stream",
     "text": [
      "optimal m:  1\n"
     ]
    }
   ],
   "source": [
    "l_comp_coeffs = np.zeros((512))\n",
    "for m in xrange(512):\n",
    "    l_comp_coeffs[m] = GolombCompress(compressed_index[l], m + 1)\n",
    "m_opt = np.argmin(l_comp_coeffs) + 1\n",
    "print 'optimal m: ', m_opt"
   ]
  },
  {
   "cell_type": "code",
   "execution_count": 79,
   "metadata": {
    "collapsed": false
   },
   "outputs": [
    {
     "name": "stdout",
     "output_type": "stream",
     "text": [
      "theoretical p:  0.94409962143\n"
     ]
    }
   ],
   "source": [
    "p_t = (compressed_index[l].shape[0] + 0.) / (compressed_index[l].shape[0] + np.sum(compressed_index[l]))\n",
    "print 'theoretical p: ', p_t"
   ]
  },
  {
   "cell_type": "code",
   "execution_count": 80,
   "metadata": {
    "collapsed": true
   },
   "outputs": [],
   "source": [
    "def Vurhis(p):\n",
    "    for m in xrange(2 ** 15):\n",
    "        if p ** (m + 1) + p ** (m + 2) <= 1 and 1 < p ** (m + 1) + p ** m:\n",
    "            return m+1#, p, p ** (m + 1) + p ** (m + 2),  p ** (m + 1) + p ** m\n",
    "    return 2 ** 15"
   ]
  },
  {
   "cell_type": "code",
   "execution_count": 83,
   "metadata": {
    "collapsed": false
   },
   "outputs": [
    {
     "name": "stdout",
     "output_type": "stream",
     "text": [
      " theoretical m:  12\n"
     ]
    }
   ],
   "source": [
    "print 'theoretical m: ', Vurhis(p_t)"
   ]
  },
  {
   "cell_type": "code",
   "execution_count": null,
   "metadata": {
    "collapsed": true
   },
   "outputs": [],
   "source": []
  }
 ],
 "metadata": {
  "kernelspec": {
   "display_name": "Python 2",
   "language": "python",
   "name": "python2"
  },
  "language_info": {
   "codemirror_mode": {
    "name": "ipython",
    "version": 2
   },
   "file_extension": ".py",
   "mimetype": "text/x-python",
   "name": "python",
   "nbconvert_exporter": "python",
   "pygments_lexer": "ipython2",
   "version": "2.7.3"
  }
 },
 "nbformat": 4,
 "nbformat_minor": 0
}
