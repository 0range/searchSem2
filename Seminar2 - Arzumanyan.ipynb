{
 "cells": [
  {
   "cell_type": "code",
   "execution_count": 1,
   "metadata": {
    "collapsed": true
   },
   "outputs": [],
   "source": [
    "import numpy as np\n",
    "import matplotlib.pyplot as plt\n",
    "%matplotlib inline\n",
    "import ctypes\n",
    "from time import time"
   ]
  },
  {
   "cell_type": "code",
   "execution_count": 2,
   "metadata": {
    "collapsed": false
   },
   "outputs": [],
   "source": [
    "def UnaryCode(n):\n",
    "    return n + 1\n",
    "\n",
    "def TruncatedBinaryCode(n, m):\n",
    "    b = int(np.ceil(np.log(m + 0.) / np.log(2.0)))\n",
    "    small = (n < (2 ** b - m))\n",
    "    return (b - 1) * small + b * (1 - small)\n",
    "\n",
    "def GolombCompress(data, m):\n",
    "    res = np.sum(UnaryCode(data / m)) + np.sum(TruncatedBinaryCode(data % m, m))\n",
    "    return res"
   ]
  },
  {
   "cell_type": "code",
   "execution_count": 3,
   "metadata": {
    "collapsed": true
   },
   "outputs": [],
   "source": [
    "def Generate():\n",
    "    filenames = []\n",
    "    for i in (0.001, 0.004, 0.007, 0.01, 0.04, 0.07, 0.1, 0.5, 0.7):\n",
    "        data = np.random.geometric(i, 1000000)\n",
    "        filename = str(int(1000 * i))\n",
    "        filenames.append(filename)\n",
    "        with open(filename, 'w') as outputfile:\n",
    "            for el in data:\n",
    "                outputfile.write(str(el) + '\\n')\n",
    "    return filenames"
   ]
  },
  {
   "cell_type": "code",
   "execution_count": 4,
   "metadata": {
    "collapsed": true
   },
   "outputs": [],
   "source": [
    "def SaveCompCoeffs(filenames):\n",
    "    compcoeffs = np.zeros((len(filenames), 512), dtype=np.float64)\n",
    "    thetime = time()\n",
    "    for i in xrange(len(filenames)):\n",
    "        data = []\n",
    "        j = 0\n",
    "        with open(filenames[i], 'r') as inputfile:\n",
    "            for line in inputfile:\n",
    "                j += 1\n",
    "                if len(line) == 0:\n",
    "                    break\n",
    "                n = int(line.strip())\n",
    "                data.append(n)\n",
    "                #if (j+1) % 200000 == 0:\n",
    "                #    print i, j\n",
    "        print i, \"data size is\", len(data), time() - thetime\n",
    "        original_size = len(data) * ctypes.sizeof(ctypes.c_int) * 8\n",
    "        data = np.array(data)\n",
    "        for m in xrange(512):\n",
    "            coded_size = GolombCompress(data, m + 1)\n",
    "            #if m % 100 == 0:\n",
    "            #    print m, time() - thetime\n",
    "            compcoeffs[i][m] = (original_size + 0.) / coded_size   \n",
    "    return compcoeffs"
   ]
  },
  {
   "cell_type": "code",
   "execution_count": 56,
   "metadata": {
    "collapsed": false
   },
   "outputs": [
    {
     "name": "stdout",
     "output_type": "stream",
     "text": [
      "136.622800827\n"
     ]
    }
   ],
   "source": [
    "thetime = time()\n",
    "filenames = Generate()\n",
    "print time() - thetime"
   ]
  },
  {
   "cell_type": "code",
   "execution_count": 135,
   "metadata": {
    "collapsed": false
   },
   "outputs": [
    {
     "name": "stdout",
     "output_type": "stream",
     "text": [
      "0 data size is 1000000 2.08464479446\n",
      "1 data size is 1000000 50.6396329403\n",
      "2 data size is 1000000 98.9426949024\n",
      "3 data size is 1000000 147.121159792\n",
      "4 data size is 1000000 195.237345934\n",
      "5 data size is 1000000 243.329365969\n",
      "6 data size is 1000000 291.517242908\n",
      "7 data size is 1000000 339.65118289\n",
      "8 data size is 1000000 387.710277796\n",
      "433.805727959\n"
     ]
    }
   ],
   "source": [
    "thetime = time()\n",
    "compcoeffs = SaveCompCoeffs(filenames)\n",
    "print time() - thetime"
   ]
  },
  {
   "cell_type": "code",
   "execution_count": 174,
   "metadata": {
    "collapsed": false
   },
   "outputs": [],
   "source": [
    "totalcoeffs = np.ravel(np.dot(np.ones((1,9), dtype=np.float64), compcoeffs))\n",
    "m_opt = np.argmax(totalcoeffs)"
   ]
  },
  {
   "cell_type": "code",
   "execution_count": 200,
   "metadata": {
    "collapsed": false
   },
   "outputs": [
    {
     "data": {
      "text/plain": [
       "<matplotlib.legend.Legend at 0x7f599db2c610>"
      ]
     },
     "execution_count": 200,
     "metadata": {},
     "output_type": "execute_result"
    },
    {
     "data": {
      "image/png": "[encoded data removed]",
      "text/plain": [
       "<matplotlib.figure.Figure at 0x7f599d46de50>"
      ]
     },
     "metadata": {},
     "output_type": "display_data"
    }
   ],
   "source": [
    "fig = plt.figure(figsize=(16,6))\n",
    "colors = ('b','g','r','c','m','y','w','b','g')\n",
    "styles = ('-','-','-','-','-','-','-','--','--')\n",
    "axes = fig.add_subplot(1, 1, 1, axisbg='black')\n",
    "for i in xrange(9):\n",
    "    plt.plot(compcoeffs[i, :], c=colors[i], ls=styles[i], label = filenames[i])\n",
    "xlim = plt.xlim([0,512])\n",
    "plt.axvline(x=m_opt, ymin=0, ymax=14, color = 'white')\n",
    "plt.legend(framealpha=0.2)"
   ]
  },
  {
   "cell_type": "code",
   "execution_count": 160,
   "metadata": {
    "collapsed": false
   },
   "outputs": [],
   "source": [
    "def loadLists(filename):\n",
    "    \"\"\"Load index from a file, returns dict key = word number\n",
    "    value = list of (document number, count of word in the document)\"\"\"\n",
    "    index = []\n",
    "    with open(filename, 'r') as index_file:\n",
    "        for line in index_file:\n",
    "            linelist = line.strip().split()[1:]\n",
    "            current_list = []\n",
    "            for j in range(1, len(linelist)):\n",
    "                current_pair = linelist[j].strip().split(':')\n",
    "                for k in xrange(int(current_pair[1])):\n",
    "                    current_list.append(int(current_pair[0]))\n",
    "            index.append(np.sort(np.array(current_list)))\n",
    "    return np.array(index)"
   ]
  },
  {
   "cell_type": "code",
   "execution_count": 17,
   "metadata": {
    "collapsed": false
   },
   "outputs": [
    {
     "name": "stdout",
     "output_type": "stream",
     "text": [
      "157.399533987\n"
     ]
    }
   ],
   "source": [
    "thetime = time()\n",
    "index = loadLists('index.txt')\n",
    "print time() - thetime"
   ]
  },
  {
   "cell_type": "code",
   "execution_count": 162,
   "metadata": {
    "collapsed": false
   },
   "outputs": [
    {
     "name": "stdout",
     "output_type": "stream",
     "text": [
      "95.5188119411\n"
     ]
    }
   ],
   "source": [
    "# compressing\n",
    "thetime = time()\n",
    "compressed_index = []\n",
    "for i in xrange(index.shape[0]):\n",
    "    if index[i].shape[0] > 0:\n",
    "        curr_line = np.zeros((index[i].shape[0],), dtype=int)\n",
    "        curr_line[0] = index[i][0]\n",
    "        for j in xrange(1, index[i].shape[0]):\n",
    "            curr_line[j] = index[i][j] - index[i][j-1]\n",
    "        compressed_index.append(curr_line)\n",
    "print - thetime + time()"
   ]
  },
  {
   "cell_type": "code",
   "execution_count": 163,
   "metadata": {
    "collapsed": false
   },
   "outputs": [
    {
     "name": "stdout",
     "output_type": "stream",
     "text": [
      "1.59688806534\n"
     ]
    }
   ],
   "source": [
    "thetime = time()\n",
    "full_sizes = np.zeros((len(compressed_index)), dtype=int)\n",
    "for i in xrange(len(compressed_index)):\n",
    "    full_sizes[i] =  len(compressed_index[i]) * ctypes.sizeof(ctypes.c_int) * 8\n",
    "print time() - thetime"
   ]
  },
  {
   "cell_type": "code",
   "execution_count": null,
   "metadata": {
    "collapsed": false
   },
   "outputs": [],
   "source": [
    "thetime = time()\n",
    "comp_sum_coeffs_first = np.zeros((16))\n",
    "for i in xrange(len(compressed_index)):\n",
    "    for m in xrange(16):\n",
    "        coded_size = GolombCompress(compressed_index[i], 2 ** m)\n",
    "        comp_sum_coeffs_first[m] += coded_size   \n",
    "print time() - thetime"
   ]
  },
  {
   "cell_type": "code",
   "execution_count": null,
   "metadata": {
    "collapsed": false
   },
   "outputs": [],
   "source": [
    "plt.plot(comp_sum_coeffs_first)\n",
    "lim = plt.ylim([0, 0.1 * 10**10])"
   ]
  },
  {
   "cell_type": "code",
   "execution_count": null,
   "metadata": {
    "collapsed": true
   },
   "outputs": [],
   "source": [
    "m_min_first = 2 ** (np.argmin(comp_sum_coeffs_first) - 1)\n",
    "m_max_first = 2 ** (np.argmin(comp_sum_coeffs_first) + 1)"
   ]
  },
  {
   "cell_type": "code",
   "execution_count": 138,
   "metadata": {
    "collapsed": false
   },
   "outputs": [
    {
     "name": "stdout",
     "output_type": "stream",
     "text": [
      "1339.55896091\n"
     ]
    }
   ],
   "source": [
    "thetime = time()\n",
    "comp_sum_coeffs_second = np.zeros((16))\n",
    "for i in xrange(len(compressed_index)):\n",
    "    #if i % 100000 == 0:\n",
    "    #    print i, time() - thetime\n",
    "    for m in xrange(16):\n",
    "        coded_size = GolombCompress(compressed_index[i], m_min_first + ((m_max_first - m_min_first) / 16) * m)\n",
    "        comp_sum_coeffs_second[m] += coded_size   \n",
    "print time() - thetime"
   ]
  },
  {
   "cell_type": "code",
   "execution_count": 139,
   "metadata": {
    "collapsed": false
   },
   "outputs": [
    {
     "data": {
      "text/plain": [
       "[<matplotlib.lines.Line2D at 0x660943d0>]"
      ]
     },
     "execution_count": 139,
     "metadata": {},
     "output_type": "execute_result"
    },
    {
     "data": {
      "image/png": "[encoded data removed]",
      "text/plain": [
       "<matplotlib.figure.Figure at 0x65ae9210>"
      ]
     },
     "metadata": {},
     "output_type": "display_data"
    }
   ],
   "source": [
    "plt.plot(comp_sum_coeffs_second)\n",
    "#lim = plt.ylim([0, 0.1 * 10**10])"
   ]
  },
  {
   "cell_type": "code",
   "execution_count": 140,
   "metadata": {
    "collapsed": true
   },
   "outputs": [],
   "source": [
    "m_min_second = m_min_first + ((m_max_first - m_min_first) / 16) * (np.argmin(comp_sum_coeffs_second) - 1)\n",
    "m_max_second = m_min_first + ((m_max_first - m_min_first) / 16) * (np.argmin(comp_sum_coeffs_second) + 1)"
   ]
  },
  {
   "cell_type": "code",
   "execution_count": 141,
   "metadata": {
    "collapsed": false
   },
   "outputs": [
    {
     "name": "stdout",
     "output_type": "stream",
     "text": [
      "1332.95737982\n"
     ]
    }
   ],
   "source": [
    "thetime = time()\n",
    "comp_sum_coeffs_third = np.zeros((16))\n",
    "for i in xrange(len(compressed_index)):\n",
    "    #if i % 100000 == 0:\n",
    "    #    print i, time() - thetime\n",
    "    for m in xrange(16):\n",
    "        coded_size = GolombCompress(compressed_index[i], m_min_second + ((m_max_second - m_min_second) / 16) * m)\n",
    "        comp_sum_coeffs_third[m] += coded_size   \n",
    "print time() - thetime"
   ]
  },
  {
   "cell_type": "code",
   "execution_count": 142,
   "metadata": {
    "collapsed": false
   },
   "outputs": [
    {
     "data": {
      "image/png": "[encoded data removed]",
      "text/plain": [
       "<matplotlib.figure.Figure at 0x66065c90>"
      ]
     },
     "metadata": {},
     "output_type": "display_data"
    }
   ],
   "source": [
    "plt.plot(comp_sum_coeffs_third)\n",
    "lim = plt.ylim([3.035 * 10 ** 8, 3.06 * 10**8])"
   ]
  },
  {
   "cell_type": "code",
   "execution_count": 155,
   "metadata": {
    "collapsed": true
   },
   "outputs": [],
   "source": [
    "m_min_third = m_min_second + ((m_max_second - m_min_second) / 16) * (np.argmin(comp_sum_coeffs_third) - 2)\n",
    "m_max_third = m_min_second + ((m_max_second - m_min_second) / 16) * (np.argmin(comp_sum_coeffs_third) + 2)"
   ]
  },
  {
   "cell_type": "code",
   "execution_count": 157,
   "metadata": {
    "collapsed": false
   },
   "outputs": [
    {
     "name": "stdout",
     "output_type": "stream",
     "text": [
      "950.275660038\n"
     ]
    }
   ],
   "source": [
    "thetime = time()\n",
    "comp_sum_coeffs_last = np.zeros((m_max_third - m_min_third + 1))\n",
    "for i in xrange(len(compressed_index)):\n",
    "    #if i % 100000 == 0:\n",
    "    #    print i, time() - thetime\n",
    "    for m in xrange(m_min_third, m_max_third + 1):\n",
    "        coded_size = GolombCompress(compressed_index[i], m)\n",
    "        comp_sum_coeffs_last[m - m_max_third] += coded_size   \n",
    "print time() - thetime"
   ]
  },
  {
   "cell_type": "code",
   "execution_count": 158,
   "metadata": {
    "collapsed": false
   },
   "outputs": [
    {
     "data": {
      "image/png": "[encoded data removed]",
      "text/plain": [
       "<matplotlib.figure.Figure at 0x65f91390>"
      ]
     },
     "metadata": {},
     "output_type": "display_data"
    }
   ],
   "source": [
    "plt.plot(comp_sum_coeffs_last)\n",
    "lim = plt.ylim([3.035 * 10**8, 3.04 * 10**8])"
   ]
  },
  {
   "cell_type": "code",
   "execution_count": null,
   "metadata": {
    "collapsed": true
   },
   "outputs": [],
   "source": [
    "opt_big_index_m = m_min_third + np.argmin(comp_sum_coeffs_last)"
   ]
  },
  {
   "cell_type": "code",
   "execution_count": 147,
   "metadata": {
    "collapsed": false
   },
   "outputs": [
    {
     "name": "stdout",
     "output_type": "stream",
     "text": [
      "opt m  250\n"
     ]
    }
   ],
   "source": [
    "print 'opt m ', opt_big_index_m"
   ]
  },
  {
   "cell_type": "code",
   "execution_count": null,
   "metadata": {
    "collapsed": true
   },
   "outputs": [],
   "source": []
  },
  {
   "cell_type": "code",
   "execution_count": 118,
   "metadata": {
    "collapsed": false
   },
   "outputs": [
    {
     "name": "stdout",
     "output_type": "stream",
     "text": [
      " max list:  175968 435178\n"
     ]
    }
   ],
   "source": [
    "l = np.argmax(full_sizes)\n",
    "print 'max list: ', l, compressed_index[l].shape[0]"
   ]
  },
  {
   "cell_type": "code",
   "execution_count": 78,
   "metadata": {
    "collapsed": false
   },
   "outputs": [
    {
     "name": "stdout",
     "output_type": "stream",
     "text": [
      "optimal m:  1\n"
     ]
    }
   ],
   "source": [
    "l_comp_coeffs = np.zeros((512))\n",
    "for m in xrange(512):\n",
    "    l_comp_coeffs[m] = GolombCompress(compressed_index[l], m + 1)\n",
    "m_opt = np.argmin(l_comp_coeffs) + 1\n",
    "print 'optimal m: ', m_opt"
   ]
  },
  {
   "cell_type": "code",
   "execution_count": 79,
   "metadata": {
    "collapsed": false
   },
   "outputs": [
    {
     "name": "stdout",
     "output_type": "stream",
     "text": [
      "theoretical p:  0.94409962143\n"
     ]
    }
   ],
   "source": [
    "p_t = (compressed_index[l].shape[0] + 0.) / (compressed_index[l].shape[0] + np.sum(compressed_index[l]))\n",
    "print 'theoretical p: ', p_t"
   ]
  },
  {
   "cell_type": "code",
   "execution_count": 80,
   "metadata": {
    "collapsed": true
   },
   "outputs": [],
   "source": [
    "def Vurhis(p):\n",
    "    for m in xrange(512):\n",
    "        if p ** (m + 1) + p ** (m + 2) <= 1 and 1 < p ** (m + 1) + p ** m:\n",
    "            return m+1#, p, p ** (m + 1) + p ** (m + 2),  p ** (m + 1) + p ** m\n",
    "    return 512"
   ]
  },
  {
   "cell_type": "code",
   "execution_count": 83,
   "metadata": {
    "collapsed": false
   },
   "outputs": [
    {
     "name": "stdout",
     "output_type": "stream",
     "text": [
      " theoretical m:  12\n"
     ]
    }
   ],
   "source": [
    "print 'theoretical m: ', Vurhis(p_t)"
   ]
  },
  {
   "cell_type": "code",
   "execution_count": null,
   "metadata": {
    "collapsed": true
   },
   "outputs": [],
   "source": []
  }
 ],
 "metadata": {
  "kernelspec": {
   "display_name": "Python 2",
   "language": "python",
   "name": "python2"
  },
  "language_info": {
   "codemirror_mode": {
    "name": "ipython",
    "version": 2
   },
   "file_extension": ".py",
   "mimetype": "text/x-python",
   "name": "python",
   "nbconvert_exporter": "python",
   "pygments_lexer": "ipython2",
   "version": "2.7.3"
  }
 },
 "nbformat": 4,
 "nbformat_minor": 0
}
